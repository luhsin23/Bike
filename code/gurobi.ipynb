{
 "cells": [
  {
   "cell_type": "code",
   "execution_count": 1,
   "metadata": {},
   "outputs": [],
   "source": [
    "# Reading Data\n",
    "import pandas as pd\n",
    "import numpy as np\n",
    "df_a = pd.read_csv('mean_psi.csv')\n",
    "df_r = pd.read_csv(\"mean_lambda.csv\")\n",
    "df_a = np.exp(df_a.to_numpy())\n",
    "df_r = np.exp(df_r.to_numpy())"
   ]
  },
  {
   "cell_type": "code",
   "execution_count": 2,
   "metadata": {},
   "outputs": [],
   "source": [
    "# Parameters\n",
    "M = 200\n",
    "a0 = 0.15\n",
    "b = np.array([1,2,9,1,2,9,1,2,9,1,2,9,1,2,9,1,2,9])\n",
    "b = b.reshape((18,1))\n",
    "# p = np.array([5,10,20,5,10,20,5,10,20,5,10,20,5,10,20,5,10,20])\n",
    "# p_new = np.array([5,10,20,5,10,20,5,10,20,5,10,20,5,10,20,5,10,20]) ##自己選\n",
    "e = np.random.normal(0,1,18) # will change\n",
    "e = np.exp(e)    \n",
    "# print(e)"
   ]
  },
  {
   "cell_type": "code",
   "execution_count": 3,
   "metadata": {},
   "outputs": [],
   "source": [
    "from gurobipy import *\n",
    "import gurobipy as gp"
   ]
  },
  {
   "cell_type": "code",
   "execution_count": 4,
   "metadata": {},
   "outputs": [],
   "source": [
    "def new_situation(M, e, p):\n",
    "    # M: budget\n",
    "    # e: random utilty term for all the 18 rental options\n",
    "    # p: price for all the 18 rental options\n",
    "\n",
    "    # Construct Model\n",
    "    m = gp.Model('m_(0,0)')\n",
    "    x = m.addVars(18, name=\"x\", vtype=GRB.INTEGER)\n",
    "    y = m.addVars(18, name=\"y\") #indide log term r*b*s\n",
    "    lapprox = m.addVars(18, name=\"lapprox\") #the whole log term\n",
    "    m.addConstrs(x[j] * float(df_r[j] * b[j]) + 1 == y[j] for j in range(18))  #inside log r*b*s can sum up together\n",
    "    for j in range(18):\n",
    "        m.addGenConstrLog(y[j], lapprox[j])                                    #the whole log-- cannot sum up, need for loop\n",
    "    m.addConstr(M - quicksum(p[j] * x[j] for j in range(18)) >= 0)\n",
    "    m.setObjective(quicksum(float(df_a[j] * e[j]/df_r[j]) * lapprox[j]for j in range(18)) + a0 * M - a0 * quicksum(p[j] * x[j] for j in range(18)))\n",
    "    \n",
    "    # Solve model\n",
    "    m.modelSense = GRB.MAXIMIZE\n",
    "    m.setParam('OutputFlag', 0)\n",
    "    m.params.threads = 1 \n",
    "    m.optimize()\n",
    "    \n",
    "    # Retrive Quantity\n",
    "    Q = []\n",
    "    count = 0\n",
    "    for j in m.getVars():   \n",
    "        Q.append(j.x)\n",
    "        count = count + 1\n",
    "        if count == 18:\n",
    "            break    \n",
    "    q_array = np.array(Q)\n",
    "    # Return Value\n",
    "    return q_array"
   ]
  },
  {
   "cell_type": "code",
   "execution_count": 5,
   "metadata": {},
   "outputs": [],
   "source": [
    "import os, sys\n",
    "import statistics as stat"
   ]
  },
  {
   "cell_type": "code",
   "execution_count": 6,
   "metadata": {
    "scrolled": false
   },
   "outputs": [
    {
     "name": "stdout",
     "output_type": "stream",
     "text": [
      "Using license file /Users/luhsin/gurobi.lic\n",
      "Academic license - for non-commercial use only - expires 2021-04-05\n",
      "1\n",
      "1.2681405895692162\n"
     ]
    }
   ],
   "source": [
    "p_o = np.array([5,10,20,5,10,20,5,10,20,5,10,20,5,10,20,5,10,20])\n",
    "p_d = np.array([5,10,20,5,10,20,5,10,20,5,10,20,5,10,20,5,10,20])\n",
    "p_d = p_d.astype(float)\n",
    "# discount = 0.2  #1 dollar discount\n",
    "\n",
    "# only the first rental option is disounted, at 80 percent of the original price\n",
    "discount = 4.9 \n",
    "rentalOption = ( 1 ) - 1 \n",
    "\n",
    "# the index of rental option\n",
    "p_d[rentalOption] = p_d[rentalOption] - discount\n",
    "# count_d = np.zeros(18)\n",
    "# count_o = np.zeros(18)\n",
    "\n",
    "n = 10\n",
    "M = 200\n",
    "\n",
    "Elas0 = list()\n",
    "QoList = list()\n",
    "QdList = list()\n",
    "\n",
    "i = 0\n",
    "count = 0\n",
    "count0 = 0\n",
    "while i < n:\n",
    "    e = np.random.normal(0, 1, 18) # will change in each iteration\n",
    "    e = np.exp(e)\n",
    "    \n",
    "#     count_d = count_d + new_situation(M, e, p_d)\n",
    "#     count_o = count_o + new_situation(M, e, p_o)\n",
    "    Qd = new_situation(M, e, p_d)[rentalOption]\n",
    "    Qo = new_situation(M, e, p_o)[rentalOption]\n",
    "    if Qo > 0 and Qd >= Qo + 0.001:\n",
    "        Elas = ((Qd - Qo) / Qo) * (p_d[rentalOption] / discount)\n",
    "        Elas0.append(Elas)\n",
    "        QdList.append(Qd)\n",
    "        QoList.append(Qo)\n",
    "    else:\n",
    "        continue\n",
    "    i = i + 1\n",
    "\n",
    "Elas0 = np.asarray(Elas0)\n",
    "averageQo = stat.mean(QoList)\n",
    "averageQd = stat.mean(QdList)\n",
    "averageElasticity = ((averageQd - averageQo) / averageQo) * (p_d[rentalOption] / discount)\n",
    "\n",
    "# print(Elas0)\n",
    "print(averageElasticity)"
   ]
  },
  {
   "cell_type": "code",
   "execution_count": 33,
   "metadata": {},
   "outputs": [],
   "source": [
    "def elasticity(p_o, p_d, discount, rentalOption, n, M):\n",
    "    Elas0 = list()\n",
    "    QoList = list()\n",
    "    QdList = list()\n",
    "\n",
    "    i = 0\n",
    "    count = 0\n",
    "    count0 = 0\n",
    "\n",
    "    while i < n:\n",
    "        e = np.random.normal(0, 1, 18) # will change\n",
    "        e = np.exp(e)\n",
    "\n",
    "        Qd = new_situation(M, e, p_d)[rentalOption]\n",
    "        Qo = new_situation(M, e, p_o)[rentalOption]\n",
    "\n",
    "        if Qo >= 0.001 and Qd >= Qo + 0.001:\n",
    "            Elas = ((Qd - Qo) / Qo) * (p_d[rentalOption] / discount)\n",
    "            Elas0.append(Elas)\n",
    "            QdList.append(Qd)\n",
    "            QoList.append(Qo)\n",
    "            \n",
    "        else:\n",
    "            count = count + 1\n",
    "            continue\n",
    "        i = i + 1\n",
    "\n",
    "    Elas0 = np.asarray(Elas0)\n",
    "    averageQo = stat.mean(QoList)\n",
    "    averageQd = stat.mean(QdList)\n",
    "    averageElasticity = ((averageQd - averageQo) / averageQo) * (p_d[rentalOption] / discount)\n",
    "    return [stat.mean(Elas0), stat.variance(Elas0)]"
   ]
  },
  {
   "cell_type": "code",
   "execution_count": 34,
   "metadata": {},
   "outputs": [
    {
     "name": "stdout",
     "output_type": "stream",
     "text": [
      "Rental option 1 mean:  1.4107827927625967 variance:  0.10908944347818376\n",
      "Rental option 2 mean:  1.2815980320701923 variance:  0.19759442009040237\n",
      "Rental option 3 mean:  2.458115646258503 variance:  0.6963020666291335\n",
      "Rental option 4 mean:  1.4712719029961951 variance:  0.1475589770012019\n",
      "Rental option 5 mean:  1.2542642128282016 variance:  0.18372952003674903\n",
      "Rental option 6 mean:  2.5713656462585 variance:  0.6208775215769454\n",
      "Rental option 7 mean:  1.4649937548283454 variance:  0.15151762030683535\n",
      "Rental option 8 mean:  1.2628075801751204 variance:  0.21888574399710664\n",
      "Rental option 9 mean:  2.3674642857142856 variance:  0.7955233030317717\n",
      "Rental option 10 mean:  1.449317067852754 variance:  0.14185209773623583\n",
      "Rental option 11 mean:  1.2330582155940273 variance:  0.17811780952969072\n",
      "Rental option 12 mean:  2.53412925170068 variance:  0.6835340737655606\n",
      "Rental option 13 mean:  1.3212960400448641 variance:  0.08922357827598598\n",
      "Rental option 14 mean:  1.2794750971821627 variance:  0.20728771808886806\n",
      "Rental option 15 mean:  2.3788002915451902 variance:  0.8012710816179304\n",
      "Rental option 16 mean:  1.443688318338015 variance:  0.14162814537044197\n",
      "Rental option 17 mean:  1.2611414826669733 variance:  0.19935824663111426\n",
      "Rental option 18 mean:  2.504853741496598 variance:  0.726224928974085\n"
     ]
    }
   ],
   "source": [
    "# new_situation(M, e, p_d)\n",
    "\n",
    "# elasticity(p_o, p_d, discount, rentalOption, n, M)\n",
    "elasticityMeanList = list()\n",
    "elasticityVarianceList= list()\n",
    "\n",
    "for rentalOptioni in range(18):\n",
    "    p_o = np.array([5,10,20,5,10,20,5,10,20,5,10,20,5,10,20,5,10,20])\n",
    "    p_d = np.array([5,10,20,5,10,20,5,10,20,5,10,20,5,10,20,5,10,20])\n",
    "    p_d = p_d.astype(float)\n",
    "    discount = 4.9 \n",
    "    rentalOption = rentalOptioni\n",
    "\n",
    "    p_d[rentalOption] = p_d[rentalOption] - discount\n",
    "    n = 200\n",
    "    M = 200\n",
    "    temp = elasticity(p_o, p_d, discount, rentalOption, n, M)\n",
    "    elasticityMeanList.append(temp[0])\n",
    "    elasticityVarianceList.append(temp[1])\n",
    "    print(\"Rental option\", rentalOptioni + 1, \"mean: \", temp[0], \"variance: \", temp[1])"
   ]
  },
  {
   "cell_type": "code",
   "execution_count": 35,
   "metadata": {},
   "outputs": [
    {
     "name": "stdout",
     "output_type": "stream",
     "text": [
      "    Mean  Variance\n",
      "0   1.41      0.11\n",
      "1   1.28      0.20\n",
      "2   2.46      0.70\n",
      "3   1.47      0.15\n",
      "4   1.25      0.18\n",
      "5   2.57      0.62\n",
      "6   1.46      0.15\n",
      "7   1.26      0.22\n",
      "8   2.37      0.80\n",
      "9   1.45      0.14\n",
      "10  1.23      0.18\n",
      "11  2.53      0.68\n",
      "12  1.32      0.09\n",
      "13  1.28      0.21\n",
      "14  2.38      0.80\n",
      "15  1.44      0.14\n",
      "16  1.26      0.20\n",
      "17  2.50      0.73\n"
     ]
    }
   ],
   "source": [
    "import pandas as pd\n",
    "# data = [elasticityMeanList, elasticityVarianceList]\n",
    "df_elasticity = pd.DataFrame({\"Mean\":elasticityMeanList, \n",
    "                 \"Variance\":elasticityVarianceList})\n",
    "print(df.round(2))"
   ]
  }
 ],
 "metadata": {
  "kernelspec": {
   "display_name": "Python 3",
   "language": "python",
   "name": "python3"
  },
  "language_info": {
   "codemirror_mode": {
    "name": "ipython",
    "version": 3
   },
   "file_extension": ".py",
   "mimetype": "text/x-python",
   "name": "python",
   "nbconvert_exporter": "python",
   "pygments_lexer": "ipython3",
   "version": "3.8.3"
  }
 },
 "nbformat": 4,
 "nbformat_minor": 4
}
